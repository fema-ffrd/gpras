{
 "cells": [
  {
   "cell_type": "code",
   "execution_count": 75,
   "id": "1d005b21",
   "metadata": {},
   "outputs": [],
   "source": [
    "import json\n",
    "\n",
    "import gpflow\n",
    "import matplotlib.pyplot as plt\n",
    "import numpy as np\n",
    "from hecstac.ras.item import RASModelItem\n",
    "from sklearn.model_selection import KFold\n",
    "\n",
    "from gpras.gpr import RasEmulator\n"
   ]
  },
  {
   "cell_type": "code",
   "execution_count": 235,
   "id": "24387ef2",
   "metadata": {},
   "outputs": [],
   "source": [
    "# Initialize GPR model\n",
    "import importlib\n",
    "\n",
    "import gpras.gpr\n",
    "\n",
    "importlib.reload(gpras.gpr)\n",
    "\n",
    "with open(emulator_meta_path) as f:\n",
    "    emulator_meta = json.load(f)\n",
    "gpr = RasEmulator(**emulator_meta)\n",
    "import logging\n",
    "\n",
    "logging.basicConfig(\n",
    "    level=logging.INFO,\n",
    "    format='%(asctime)s - %(levelname)s - %(message)s'\n",
    ")\n"
   ]
  },
  {
   "cell_type": "code",
   "execution_count": 3,
   "id": "9515ed0c",
   "metadata": {},
   "outputs": [],
   "source": [
    "# Constants\n",
    "ras_path = \"/workspaces/gpras/data_dir/Muncie/Muncie.prj\"\n",
    "crs = \"ESRI:102673\"\n",
    "stac_path = \"/workspaces/gpras/data_dir/Muncie/Muncie.stac.json\"\n",
    "emulator_meta_path = \"ras_emulator.json\""
   ]
  },
  {
   "cell_type": "code",
   "execution_count": 4,
   "id": "2dad777d",
   "metadata": {},
   "outputs": [],
   "source": [
    "# Make emulator metadata json.  Only need to run once.\n",
    "metadata = {\n",
    "    \"ras_model_path\": stac_path,\n",
    "    \"hf_mesh_id\": \"2D Interior Area\",\n",
    "    \"lf_mesh_id\": \"2D Interior Area\",\n",
    "    \"lf_runs\": [\"lf1\", \"lf2\", \"lf3\"],\n",
    "    \"hf_runs\": [\"hf1\", \"hf2\", \"hf3\"],\n",
    "    \"testing_runs\": [],\n",
    "    \"enable_cell_weighting\": True\n",
    "}\n",
    "with open(emulator_meta_path, mode=\"w\") as f:\n",
    "    json.dump(metadata, f, indent=4)"
   ]
  },
  {
   "cell_type": "code",
   "execution_count": 5,
   "id": "d915fb72",
   "metadata": {},
   "outputs": [
    {
     "name": "stderr",
     "output_type": "stream",
     "text": [
      "Ras model has no current plan\n"
     ]
    }
   ],
   "source": [
    "# Make initial STAC item. Only need to run once.\n",
    "stac = RASModelItem.from_prj(ras_path, crs)\n",
    "with open(stac_path, mode=\"w\") as f:\n",
    "    json.dump(stac.to_dict(), f, indent=4)"
   ]
  },
  {
   "cell_type": "markdown",
   "id": "a6fcc727",
   "metadata": {},
   "source": [
    "Classify HF model cells to identify Wet, Always Dry (AD), Temporarily Flooded (TF) and Always Flooded (AF) cells.\n",
    "Create shapefile to visualize and review classification"
   ]
  },
  {
   "cell_type": "code",
   "execution_count": 68,
   "id": "6d0cbad5",
   "metadata": {},
   "outputs": [
    {
     "name": "stderr",
     "output_type": "stream",
     "text": [
      "2025-06-26 07:53:40,579 - INFO - Created 30,504 records\n"
     ]
    }
   ],
   "source": [
    "classification_qc_shp = \"/workspaces/gpras/data_dir/Muncie_qc/classification_qc.shp\"\n",
    "gpr.flood_classification_shp(gpr.hf_runs, classification_qc_shp)"
   ]
  },
  {
   "cell_type": "markdown",
   "id": "f8256788",
   "metadata": {},
   "source": [
    "Create training data for K-fold validation and extract spatial EOFs for each HF data training folds"
   ]
  },
  {
   "cell_type": "code",
   "execution_count": 229,
   "id": "2ef941cd",
   "metadata": {},
   "outputs": [
    {
     "name": "stderr",
     "output_type": "stream",
     "text": [
      "2025-06-26 14:24:50,956 - INFO - Starting EOF analysis across 3 folds with 100 EOF modes...\n",
      "2025-06-26 14:24:50,970 - INFO - \n",
      "--- Fold fold_0 ---\n",
      "2025-06-26 14:24:50,971 - INFO - Training runs: ['hf2', 'hf3']\n"
     ]
    },
    {
     "name": "stderr",
     "output_type": "stream",
     "text": [
      "2025-06-26 14:24:51,813 - INFO - Unioned wet cells: 4815\n",
      "2025-06-26 14:24:51,849 - INFO - Computed weighted temporal mean over wet cells\n",
      "2025-06-26 14:24:53,070 - INFO - Partial fit on run hf2 (289 timesteps)\n",
      "2025-06-26 14:24:55,469 - INFO - Partial fit on run hf3 (289 timesteps)\n",
      "2025-06-26 14:24:55,470 - INFO - Selected 16 significant EOFs (North's Rule)\n",
      "2025-06-26 14:24:55,471 - INFO - EOFs and statistics stored for fold fold_0\n",
      "\n",
      "2025-06-26 14:24:55,471 - INFO - \n",
      "--- Fold fold_1 ---\n",
      "2025-06-26 14:24:55,471 - INFO - Training runs: ['hf1', 'hf3']\n",
      "2025-06-26 14:24:55,473 - INFO - Unioned wet cells: 4885\n",
      "2025-06-26 14:24:55,480 - INFO - Computed weighted temporal mean over wet cells\n",
      "2025-06-26 14:24:56,892 - INFO - Partial fit on run hf1 (289 timesteps)\n",
      "2025-06-26 14:24:58,949 - INFO - Partial fit on run hf3 (289 timesteps)\n",
      "2025-06-26 14:24:58,950 - INFO - Selected 17 significant EOFs (North's Rule)\n",
      "2025-06-26 14:24:58,951 - INFO - EOFs and statistics stored for fold fold_1\n",
      "\n",
      "2025-06-26 14:24:58,952 - INFO - \n",
      "--- Fold fold_2 ---\n",
      "2025-06-26 14:24:58,953 - INFO - Training runs: ['hf1', 'hf2']\n",
      "2025-06-26 14:24:58,955 - INFO - Unioned wet cells: 4885\n",
      "2025-06-26 14:24:58,960 - INFO - Computed weighted temporal mean over wet cells\n",
      "2025-06-26 14:25:00,115 - INFO - Partial fit on run hf1 (289 timesteps)\n",
      "2025-06-26 14:25:03,370 - INFO - Partial fit on run hf2 (289 timesteps)\n",
      "2025-06-26 14:25:03,371 - INFO - Selected 16 significant EOFs (North's Rule)\n",
      "2025-06-26 14:25:03,372 - INFO - EOFs and statistics stored for fold fold_2\n",
      "\n"
     ]
    }
   ],
   "source": [
    "gpr.perform_eof_kfold_analysis(n_splits=3, n_modes=100)"
   ]
  },
  {
   "cell_type": "markdown",
   "id": "53cc089c",
   "metadata": {},
   "source": [
    "Visualize EOF results"
   ]
  },
  {
   "cell_type": "code",
   "execution_count": 230,
   "id": "e5cc088b",
   "metadata": {},
   "outputs": [
    {
     "name": "stdout",
     "output_type": "stream",
     "text": [
      "\n",
      "Visualizing results for fold_0...\n"
     ]
    },
    {
     "name": "stderr",
     "output_type": "stream",
     "text": [
      "2025-06-26 14:25:24,819 - DEBUG - locator: <matplotlib.ticker.AutoLocator object at 0x7f448d11f450>\n",
      "2025-06-26 14:25:25,016 - DEBUG - locator: <matplotlib.ticker.AutoLocator object at 0x7f448cf53790>\n",
      "2025-06-26 14:25:25,237 - DEBUG - locator: <matplotlib.ticker.AutoLocator object at 0x7f448c5d97d0>\n",
      "2025-06-26 14:25:25,583 - DEBUG - locator: <matplotlib.ticker.AutoLocator object at 0x7f448b2bc8d0>\n"
     ]
    },
    {
     "name": "stdout",
     "output_type": "stream",
     "text": [
      "\n",
      "Visualizing results for fold_1...\n"
     ]
    },
    {
     "name": "stderr",
     "output_type": "stream",
     "text": [
      "2025-06-26 14:25:25,766 - DEBUG - locator: <matplotlib.ticker.AutoLocator object at 0x7f448d2a3790>\n",
      "2025-06-26 14:25:25,957 - DEBUG - locator: <matplotlib.ticker.AutoLocator object at 0x7f449d720c10>\n",
      "2025-06-26 14:25:26,278 - DEBUG - locator: <matplotlib.ticker.AutoLocator object at 0x7f4489bc92d0>\n"
     ]
    },
    {
     "name": "stdout",
     "output_type": "stream",
     "text": [
      "\n",
      "Visualizing results for fold_2...\n"
     ]
    },
    {
     "name": "stderr",
     "output_type": "stream",
     "text": [
      "2025-06-26 14:25:26,462 - DEBUG - locator: <matplotlib.ticker.AutoLocator object at 0x7f448ce94910>\n",
      "2025-06-26 14:25:26,681 - DEBUG - locator: <matplotlib.ticker.AutoLocator object at 0x7f448d168c10>\n"
     ]
    }
   ],
   "source": [
    "# Save all plots into a folder\n",
    "gpr.visualize_all_norths_rule(output_dir=\"/workspaces/gpras/production/plots/norths_rule\")\n",
    "gpr.visualize_all_kfold_eof_results_separate(output_dir=\"/workspaces/gpras/production/plots/eof_modes\", n_modes_to_plot=3)\n"
   ]
  },
  {
   "cell_type": "markdown",
   "id": "0ed3e9b4",
   "metadata": {},
   "source": [
    "Visualize High Fidelity ECs "
   ]
  },
  {
   "cell_type": "code",
   "execution_count": 231,
   "id": "05cfb7ea",
   "metadata": {},
   "outputs": [
    {
     "name": "stderr",
     "output_type": "stream",
     "text": [
      "2025-06-26 14:25:46,743 - INFO - Computing and caching HF ECs as training targets (data_y_train)\n",
      "2025-06-26 14:25:46,744 - INFO - Deriving ECs for fold: fold_0\n",
      "2025-06-26 14:25:46,746 - INFO - Centering and weighting WSE data for EC computation\n",
      "2025-06-26 14:25:46,784 - INFO - Derived ECs for run: hf2, shape: (289, 16)\n",
      "2025-06-26 14:25:46,788 - INFO - Centering and weighting WSE data for EC computation\n",
      "2025-06-26 14:25:46,802 - INFO - Derived ECs for run: hf3, shape: (289, 16)\n",
      "2025-06-26 14:25:46,804 - INFO - Stored HF ECs for fold_0 into self.Y_train\n",
      "2025-06-26 14:25:46,805 - INFO - Deriving ECs for fold: fold_1\n",
      "2025-06-26 14:25:46,811 - INFO - Centering and weighting WSE data for EC computation\n",
      "2025-06-26 14:25:46,836 - INFO - Derived ECs for run: hf1, shape: (289, 17)\n",
      "2025-06-26 14:25:46,845 - INFO - Centering and weighting WSE data for EC computation\n",
      "2025-06-26 14:25:46,852 - INFO - Derived ECs for run: hf3, shape: (289, 17)\n",
      "2025-06-26 14:25:46,853 - INFO - Stored HF ECs for fold_1 into self.Y_train\n",
      "2025-06-26 14:25:46,855 - INFO - Deriving ECs for fold: fold_2\n",
      "2025-06-26 14:25:46,859 - INFO - Centering and weighting WSE data for EC computation\n",
      "2025-06-26 14:25:46,873 - INFO - Derived ECs for run: hf1, shape: (289, 16)\n",
      "2025-06-26 14:25:46,877 - INFO - Centering and weighting WSE data for EC computation\n",
      "2025-06-26 14:25:46,895 - INFO - Derived ECs for run: hf2, shape: (289, 16)\n",
      "2025-06-26 14:25:46,896 - INFO - Stored HF ECs for fold_2 into self.Y_train\n",
      "2025-06-26 14:25:46,896 - INFO - Visualizing ECs for fold_0\n",
      "2025-06-26 14:25:46,899 - INFO - Centering and weighting WSE data for EC computation\n",
      "2025-06-26 14:25:46,913 - INFO - Centering and weighting WSE data for EC computation\n",
      "2025-06-26 14:25:47,321 - INFO - Saved EC plot for fold_0 to /workspaces/gpras/production/plots/hf_ecs/ECs_fold_0.png\n",
      "2025-06-26 14:25:47,322 - INFO - Visualizing ECs for fold_1\n",
      "2025-06-26 14:25:47,324 - INFO - Centering and weighting WSE data for EC computation\n",
      "2025-06-26 14:25:47,336 - INFO - Centering and weighting WSE data for EC computation\n",
      "2025-06-26 14:25:47,746 - INFO - Saved EC plot for fold_1 to /workspaces/gpras/production/plots/hf_ecs/ECs_fold_1.png\n",
      "2025-06-26 14:25:47,746 - INFO - Visualizing ECs for fold_2\n",
      "2025-06-26 14:25:47,748 - INFO - Centering and weighting WSE data for EC computation\n",
      "2025-06-26 14:25:47,759 - INFO - Centering and weighting WSE data for EC computation\n",
      "2025-06-26 14:25:48,140 - INFO - Saved EC plot for fold_2 to /workspaces/gpras/production/plots/hf_ecs/ECs_fold_2.png\n"
     ]
    }
   ],
   "source": [
    "gpr.data_y_train\n",
    "gpr.visualize_all_kfold_ecs(n_modes_to_plot=3, output_dir=\"/workspaces/gpras/production/plots/hf_ecs\", show_run_boundaries=True)\n"
   ]
  },
  {
   "cell_type": "markdown",
   "id": "e4215d63",
   "metadata": {},
   "source": [
    "Create Low-Fidelity ECs"
   ]
  },
  {
   "cell_type": "code",
   "execution_count": 232,
   "id": "aa322037",
   "metadata": {},
   "outputs": [
    {
     "name": "stderr",
     "output_type": "stream",
     "text": [
      "/workspaces/gpras/gpras/gpr.py:856: UserWarning: `keep_geom_type=True` in overlay resulted in 85 dropped geometries of different geometry types than df1 has. Set `keep_geom_type=False` to retain all geometries\n",
      "  \n",
      "2025-06-26 14:26:17,115 - INFO - Computing and caching LF ECs as training inputs (data_x_train)\n",
      "2025-06-26 14:26:17,115 - INFO - Deriving LF ECs using HF EOFs for fold_0\n",
      "2025-06-26 14:26:17,124 - INFO - Centering and weighting WSE data for EC computation\n",
      "2025-06-26 14:26:17,141 - INFO - LF ECs derived for run lf2 with shape (289, 16)\n",
      "2025-06-26 14:26:17,163 - INFO - Centering and weighting WSE data for EC computation\n",
      "2025-06-26 14:26:17,181 - INFO - LF ECs derived for run lf3 with shape (289, 16)\n",
      "2025-06-26 14:26:17,182 - INFO - Stored LF ECs for fold_0 into self.X_train\n",
      "2025-06-26 14:26:17,187 - INFO - Deriving LF ECs using HF EOFs for fold_1\n",
      "2025-06-26 14:26:17,201 - INFO - Centering and weighting WSE data for EC computation\n",
      "2025-06-26 14:26:17,211 - INFO - LF ECs derived for run lf1 with shape (289, 17)\n",
      "2025-06-26 14:26:17,227 - INFO - Centering and weighting WSE data for EC computation\n",
      "2025-06-26 14:26:17,237 - INFO - LF ECs derived for run lf3 with shape (289, 17)\n",
      "2025-06-26 14:26:17,238 - INFO - Stored LF ECs for fold_1 into self.X_train\n",
      "2025-06-26 14:26:17,239 - INFO - Deriving LF ECs using HF EOFs for fold_2\n",
      "2025-06-26 14:26:17,253 - INFO - Centering and weighting WSE data for EC computation\n",
      "2025-06-26 14:26:17,259 - INFO - LF ECs derived for run lf1 with shape (289, 16)\n",
      "2025-06-26 14:26:17,273 - INFO - Centering and weighting WSE data for EC computation\n",
      "2025-06-26 14:26:17,279 - INFO - LF ECs derived for run lf2 with shape (289, 16)\n",
      "2025-06-26 14:26:17,280 - INFO - Stored LF ECs for fold_2 into self.X_train\n"
     ]
    },
    {
     "name": "stdout",
     "output_type": "stream",
     "text": [
      "lf2\n",
      "289\n",
      "lf3\n",
      "289\n",
      "lf1\n",
      "289\n",
      "lf3\n",
      "289\n",
      "lf1\n",
      "289\n",
      "lf2\n",
      "289\n"
     ]
    },
    {
     "data": {
      "text/plain": [
       "{'fold_0': array([[-52023.23825454, -14416.68075227,  22952.64837712, ...,\n",
       "           1621.25758958,   1240.4320369 ,  -1343.77127433],\n",
       "        [-52023.23825454, -14416.68075227,  22952.64837712, ...,\n",
       "           1621.25758958,   1240.4320369 ,  -1343.77127433],\n",
       "        [-52023.23825454, -14416.68075227,  22952.64837712, ...,\n",
       "           1621.25758958,   1240.4320369 ,  -1343.77127433],\n",
       "        ...,\n",
       "        [-51411.45798001, -14407.77560122,  22922.68565733, ...,\n",
       "           1620.95512249,   1240.09762565,  -1343.41839262],\n",
       "        [-51411.45268426, -14407.76874984,  22922.68265143, ...,\n",
       "           1620.95519687,   1240.09741675,  -1343.41778454],\n",
       "        [-51411.44727305, -14407.7620253 ,  22922.67945884, ...,\n",
       "           1620.95521954,   1240.09742958,  -1343.41740597]]),\n",
       " 'fold_1': array([[-52045.41084536, -16818.83455928,  26179.59492987, ...,\n",
       "           2561.82667604,    600.74318532,    871.57364836],\n",
       "        [-52045.41084536, -16818.83455928,  26179.59492987, ...,\n",
       "           2561.82667604,    600.74318532,    871.57364836],\n",
       "        [-52045.41084536, -16818.83455928,  26179.59492987, ...,\n",
       "           2561.82667604,    600.74318532,    871.57364836],\n",
       "        ...,\n",
       "        [-51436.45017997, -16756.51733462,  26161.46590942, ...,\n",
       "           2561.45636392,    601.02656612,    872.31660697],\n",
       "        [-51436.44532236, -16756.51040413,  26161.46184579, ...,\n",
       "           2561.45638012,    601.02645519,    872.31665516],\n",
       "        [-51436.44033866, -16756.50360042,  26161.45763766, ...,\n",
       "           2561.45638746,    601.02657119,    872.31650783]]),\n",
       " 'fold_2': array([[-53559.17301993, -13199.67271334,  23874.31602863, ...,\n",
       "           1493.41595601,   1564.43213576,   -396.62639563],\n",
       "        [-53559.17301993, -13199.67271334,  23874.31602863, ...,\n",
       "           1493.41595601,   1564.43213576,   -396.62639563],\n",
       "        [-53559.17301993, -13199.67271334,  23874.31602863, ...,\n",
       "           1493.41595601,   1564.43213576,   -396.62639563],\n",
       "        ...,\n",
       "        [-53019.19283024, -13201.50263549,  23889.94719734, ...,\n",
       "           1494.06332237,   1565.2440756 ,   -397.68038669],\n",
       "        [-53018.05999033, -13203.0053035 ,  23889.75936637, ...,\n",
       "           1494.08295653,   1565.30583754,   -397.75357261],\n",
       "        [-53017.02052579, -13204.48410325,  23889.59129822, ...,\n",
       "           1494.08166872,   1565.34268646,   -397.81116983]])}"
      ]
     },
     "execution_count": 232,
     "metadata": {},
     "output_type": "execute_result"
    }
   ],
   "source": [
    "gpr.data_x\n",
    "gpr.data_x_train"
   ]
  },
  {
   "cell_type": "markdown",
   "id": "af56f3a7",
   "metadata": {},
   "source": [
    "Visualize LF ECs"
   ]
  },
  {
   "cell_type": "code",
   "execution_count": 233,
   "id": "779cca72",
   "metadata": {},
   "outputs": [
    {
     "name": "stderr",
     "output_type": "stream",
     "text": [
      "2025-06-26 14:26:34,863 - INFO - Visualizing LF ECs for fold_0\n",
      "2025-06-26 14:26:35,209 - INFO - Saved LF EC plot to /workspaces/gpras/production/plots/lf_ecs/LF_ECs_fold_0.png\n",
      "2025-06-26 14:26:35,209 - INFO - Visualizing LF ECs for fold_1\n",
      "2025-06-26 14:26:35,537 - INFO - Saved LF EC plot to /workspaces/gpras/production/plots/lf_ecs/LF_ECs_fold_1.png\n",
      "2025-06-26 14:26:35,538 - INFO - Visualizing LF ECs for fold_2\n",
      "2025-06-26 14:26:35,861 - INFO - Saved LF EC plot to /workspaces/gpras/production/plots/lf_ecs/LF_ECs_fold_2.png\n"
     ]
    }
   ],
   "source": [
    "gpr.visualize_all_lf_ecs(n_modes_to_plot=3, output_dir=\"/workspaces/gpras/production/plots/lf_ecs\")\n"
   ]
  },
  {
   "cell_type": "code",
   "execution_count": 234,
   "id": "1a4ffab7",
   "metadata": {},
   "outputs": [],
   "source": [
    "gpr.compare_lf_hf_ecs(n_modes_to_plot=3, output_dir=\"/workspaces/gpras/production/plots/compare_hf_lf_ecs\")"
   ]
  }
 ],
 "metadata": {
  "kernelspec": {
   "display_name": "Python 3",
   "language": "python",
   "name": "python3"
  },
  "language_info": {
   "codemirror_mode": {
    "name": "ipython",
    "version": 3
   },
   "file_extension": ".py",
   "mimetype": "text/x-python",
   "name": "python",
   "nbconvert_exporter": "python",
   "pygments_lexer": "ipython3",
   "version": "3.11.11"
  }
 },
 "nbformat": 4,
 "nbformat_minor": 5
}
